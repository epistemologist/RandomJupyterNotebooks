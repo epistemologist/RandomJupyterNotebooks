{
 "cells": [
  {
   "cell_type": "markdown",
   "id": "0c0d804a",
   "metadata": {},
   "source": [
    "### Goal: Calculate pi as fast as possible\n",
    " - Note: to start, we'll just use the normal arctan series for a challenge:\n",
    " $$ \\frac{\\pi}{4} = \\sum_{k \\ge 0} \\frac{(-1)^k}{2k+1} $$\n",
    " - Since we have that $$ \\frac{(-1)^{2k}}{2(2k)+1} + \\frac{(-1)^{2k+1}}{2(2k+1)+1} = \\frac{1}{4k+1} + \\frac{-1}{4k+3} = \\frac{2}{(4k+1)(4k+3)}$$ we can sum these terms two at a time to gain a bit of speed."
   ]
  },
  {
   "cell_type": "code",
   "execution_count": null,
   "id": "0d8a3ce8",
   "metadata": {},
   "outputs": [],
   "source": [
    "from math import pi as real_pi\n",
    "from tqdm import tqdm\n",
    "\n",
    "def pi_python():\n",
    "    total = 0\n",
    "    # Add in reverse order to avoid floating point precision errors\n",
    "    for k in tqdm(reversed(range(200000000)), total=200000000):\n",
    "        total += 8. / ((4*k+1)*(4*k+3))\n",
    "    return total\n",
    "\n",
    "pi = pi_python()\n",
    "print(abs(pi - real_pi))\n",
    "\n",
    "\n",
    "\"\"\"\n",
    "100%|████████████████████████████████████████████████████████████████████████████████████████████████████████████████████████████████████████████████████| 200000000/200000000 [05:06<00:00, 651779.52it/s]\n",
    "2.5000002068509275e-09\n",
    "\"\"\""
   ]
  },
  {
   "cell_type": "markdown",
   "id": "77d57a1d",
   "metadata": {},
   "source": [
    "##### Compiling with `pypy`\n",
    "\n",
    "Using the same script and running with pypy, we get much faster performance\n",
    "\n",
    "```\n",
    "$ pypy3 temp.py \n",
    "100%|███████████████████████| 200000000/200000000 [00:11<00:00, 16931114.41it/s]\n",
    "2.5000002068509275e-09\n",
    "$ pypy3 temp.py \n",
    "100%|██████████████████████| 2000000000/2000000000 [07:35<00:00, 4391991.59it/s]\n",
    "2.5000002068509275e-10\n",
    "```"
   ]
  },
  {
   "cell_type": "markdown",
   "id": "4bd10609",
   "metadata": {},
   "source": [
    "##### `numpy`\n",
    "Using numpy arrays to do the sum may be faster than using pure Python"
   ]
  },
  {
   "cell_type": "code",
   "execution_count": 21,
   "id": "e84a08a2",
   "metadata": {},
   "outputs": [
    {
     "name": "stdout",
     "output_type": "stream",
     "text": [
      "Constructing array...\n",
      "Calculating sum values...\n",
      "Sorting values (for stable sum)...\n",
      "Summing values...\n",
      "CPU times: user 9.34 s, sys: 1.19 s, total: 10.5 s\n",
      "Wall time: 11 s\n"
     ]
    },
    {
     "data": {
      "text/plain": [
       "3.141592651089793"
      ]
     },
     "execution_count": 21,
     "metadata": {},
     "output_type": "execute_result"
    }
   ],
   "source": [
    "import numpy as np\n",
    "\n",
    "def pi_numpy():\n",
    "    print(\"Constructing array...\")\n",
    "    arr = np.arange(200000000, dtype=\"int64\")\n",
    "    print(\"Calculating sum values...\")\n",
    "    vals = 8. / np.polynomial.polynomial.polyval(arr, [3,16,16])\n",
    "    print(\"Sorting values (for stable sum)...\")\n",
    "    vals.sort()\n",
    "    print(\"Summing values...\")\n",
    "    return vals.sum()\n",
    "\n",
    "%time pi_numpy()"
   ]
  },
  {
   "cell_type": "markdown",
   "id": "664361cf",
   "metadata": {},
   "source": [
    "##### `numba`\n",
    "Pulling out the big guns, let's just use `numba` to go fast.\n",
    "For some reason I can't use numba in this Jupyter notebook..."
   ]
  },
  {
   "cell_type": "code",
   "execution_count": 28,
   "id": "95d2e2ec",
   "metadata": {
    "scrolled": true
   },
   "outputs": [
    {
     "ename": "ImportError",
     "evalue": "Numba needs NumPy 1.20 or less",
     "output_type": "error",
     "traceback": [
      "\u001b[0;31m---------------------------------------------------------------------------\u001b[0m",
      "\u001b[0;31mImportError\u001b[0m                               Traceback (most recent call last)",
      "\u001b[0;32m/tmp/ipykernel_8239/2257432204.py\u001b[0m in \u001b[0;36m<module>\u001b[0;34m\u001b[0m\n\u001b[0;32m----> 1\u001b[0;31m \u001b[0;32mimport\u001b[0m \u001b[0mnumba\u001b[0m\u001b[0;34m\u001b[0m\u001b[0;34m\u001b[0m\u001b[0m\n\u001b[0m",
      "\u001b[0;32m~/.local/lib/python3.8/site-packages/numba/__init__.py\u001b[0m in \u001b[0;36m<module>\u001b[0;34m\u001b[0m\n\u001b[1;32m    196\u001b[0m \u001b[0;34m\u001b[0m\u001b[0m\n\u001b[1;32m    197\u001b[0m \u001b[0m_ensure_llvm\u001b[0m\u001b[0;34m(\u001b[0m\u001b[0;34m)\u001b[0m\u001b[0;34m\u001b[0m\u001b[0;34m\u001b[0m\u001b[0m\n\u001b[0;32m--> 198\u001b[0;31m \u001b[0m_ensure_critical_deps\u001b[0m\u001b[0;34m(\u001b[0m\u001b[0;34m)\u001b[0m\u001b[0;34m\u001b[0m\u001b[0;34m\u001b[0m\u001b[0m\n\u001b[0m\u001b[1;32m    199\u001b[0m \u001b[0;34m\u001b[0m\u001b[0m\n\u001b[1;32m    200\u001b[0m \u001b[0;31m# we know llvmlite is working as the above tests passed, import it now as SVML\u001b[0m\u001b[0;34m\u001b[0m\u001b[0;34m\u001b[0m\u001b[0;34m\u001b[0m\u001b[0m\n",
      "\u001b[0;32m~/.local/lib/python3.8/site-packages/numba/__init__.py\u001b[0m in \u001b[0;36m_ensure_critical_deps\u001b[0;34m()\u001b[0m\n\u001b[1;32m    136\u001b[0m         \u001b[0;32mraise\u001b[0m \u001b[0mImportError\u001b[0m\u001b[0;34m(\u001b[0m\u001b[0;34m\"Numba needs NumPy 1.17 or greater\"\u001b[0m\u001b[0;34m)\u001b[0m\u001b[0;34m\u001b[0m\u001b[0;34m\u001b[0m\u001b[0m\n\u001b[1;32m    137\u001b[0m     \u001b[0;32melif\u001b[0m \u001b[0mnumpy_version\u001b[0m \u001b[0;34m>\u001b[0m \u001b[0;34m(\u001b[0m\u001b[0;36m1\u001b[0m\u001b[0;34m,\u001b[0m \u001b[0;36m20\u001b[0m\u001b[0;34m)\u001b[0m\u001b[0;34m:\u001b[0m\u001b[0;34m\u001b[0m\u001b[0;34m\u001b[0m\u001b[0m\n\u001b[0;32m--> 138\u001b[0;31m         \u001b[0;32mraise\u001b[0m \u001b[0mImportError\u001b[0m\u001b[0;34m(\u001b[0m\u001b[0;34m\"Numba needs NumPy 1.20 or less\"\u001b[0m\u001b[0;34m)\u001b[0m\u001b[0;34m\u001b[0m\u001b[0;34m\u001b[0m\u001b[0m\n\u001b[0m\u001b[1;32m    139\u001b[0m \u001b[0;34m\u001b[0m\u001b[0m\n\u001b[1;32m    140\u001b[0m     \u001b[0;32mtry\u001b[0m\u001b[0;34m:\u001b[0m\u001b[0;34m\u001b[0m\u001b[0;34m\u001b[0m\u001b[0m\n",
      "\u001b[0;31mImportError\u001b[0m: Numba needs NumPy 1.20 or less"
     ]
    }
   ],
   "source": [
    "import numba"
   ]
  },
  {
   "cell_type": "markdown",
   "id": "b946a64c",
   "metadata": {},
   "source": [
    "Here's the script that I ran locally:\n",
    "```py\n",
    "from math import pi as real_pi\n",
    "from numba import njit\n",
    "from time import time\n",
    "\n",
    "@njit\n",
    "def pi_numba():\n",
    "    total = 0\n",
    "    for k in range(2000000000, -1, -1):\n",
    "        total += 8. / ((4*k+1)*(4*k+3))\n",
    "    return total\n",
    "\n",
    "# Compile the function\n",
    "pi_numba()\n",
    "\n",
    "start = time()\n",
    "pi = pi_numba()\n",
    "end = time()\n",
    "print(f\"{end-start} seconds\")\n",
    "print(abs(pi - real_pi))\n",
    "```\n",
    "\n",
    "And here's some performance results:\n",
    "\n",
    "num of terms = 2*10^8:\n",
    "```\n",
    "0.26631736755371094 seconds\n",
    "2.5000002068509275e-09\n",
    "```\n",
    "\n",
    "num of terms = 2*10^9:\n",
    "```\n",
    "2.839431047439575 seconds\n",
    "1.9004664508770475e-10\n",
    "```\n",
    "\n",
    "num of terms = 2*10^10:\n",
    "\n",
    "```\n",
    "27.300660371780396 seconds\n",
    "1.6484650533499234e-08 (think there's some floating point error here)\n",
    "```"
   ]
  },
  {
   "cell_type": "markdown",
   "id": "c44258c9",
   "metadata": {},
   "source": [
    "##### More Precision - Using `gmpy2`\n",
    "To get more digits, we use the library `gmpy2` for extended precision and use [this algorithm](https://en.wikipedia.org/wiki/Borwein%27s_algorithm#Quadratic_convergence_(1984)) that converges quadratically (i.e. each iteration roughly doubles the number of correct digits) to get 10 million digits"
   ]
  },
  {
   "cell_type": "code",
   "execution_count": 36,
   "id": "2807a17b",
   "metadata": {
    "scrolled": true
   },
   "outputs": [
    {
     "name": "stdout",
     "output_type": "stream",
     "text": [
      "0 3.142606753941622600790719823618301891971356246277...41885525157660628919783367468821222935341984954532\n",
      "1 3.141592660966044230497752235120339690679284256864...10626955767434753621664228587437969486786065467423\n",
      "2 3.141592653589793238645773991757141794034789623867...84973197785151056460234474596637435819095048396754\n",
      "3 3.141592653589793238462643383279502884197224120466...24826717979178074007880788421258562531503676994041\n",
      "4 3.141592653589793238462643383279502884197169399375...06650593576457487229576208300565363642846109954489\n",
      "5 3.141592653589793238462643383279502884197169399375...54590142318553169522447767053928600001935416567977\n",
      "6 3.141592653589793238462643383279502884197169399375...61680336541960041075745570049286681719171065863476\n",
      "7 3.141592653589793238462643383279502884197169399375...70716629211693529914432060007515388472206502039748\n",
      "8 3.141592653589793238462643383279502884197169399375...34556829888212816730372632721171785648500631324219\n",
      "9 3.141592653589793238462643383279502884197169399375...39157229895965331695300190679371984832804231121399\n",
      "10 3.141592653589793238462643383279502884197169399375...91954710011193763828475402477906147039792661014098\n",
      "11 3.141592653589793238462643383279502884197169399375...20579017811150348249464946080841359563943867423076\n",
      "12 3.141592653589793238462643383279502884197169399375...25489421255949641769618158313977598390803545994151\n",
      "13 3.141592653589793238462643383279502884197169399375...45539916949741718761281975061966674465989812346442\n",
      "14 3.141592653589793238462643383279502884197169399375...18433814092110131534603057669010458816176539117334\n",
      "15 3.141592653589793238462643383279502884197169399375...94921652402229572888742008082619260802397812653642\n",
      "16 3.141592653589793238462643383279502884197169399375...14409049256188159001759556201719831317449109974165\n",
      "17 3.141592653589793238462643383279502884197169399375...98013472776394274374684013929177713428433842723883\n",
      "18 3.141592653589793238462643383279502884197169399375...17181782798932716486124864620675574303177897562964\n",
      "19 3.141592653589793238462643383279502884197169399375...38204723410371495909292356651813699367925828710309\n",
      "20 3.141592653589793238462643383279502884197169399375...19381945641325798285965906260402670918511557624926\n",
      "21 3.141592653589793238462643383279502884197169399375...36735317528268051586584331726732017459177672913209\n",
      "22 3.141592653589793238462643383279502884197169399375...94816214346382673464686937074955418105709950613511\n",
      "23 3.141592653589793238462643383279502884197169399375...86792593769113138007419996393727777364782841008603\n",
      "24 3.141592653589793238462643383279502884197169399375...86792593769113138007419996393727777364782841008603\n",
      "CPU times: user 9min 17s, sys: 9.07 s, total: 9min 26s\n",
      "Wall time: 9min 45s\n"
     ]
    }
   ],
   "source": [
    "from gmpy2 import mpfr as D, sqrt, get_context\n",
    "# Program to calculate 10 million digits of pi (takes ~15 minutes to run on my machine)\n",
    "def pi_ten_million():\n",
    "    get_context().precision = 100000000\n",
    "    a = sqrt(2)\n",
    "    b = 0\n",
    "    p = 2+sqrt(2)\n",
    "    for n in range(25):\n",
    "        sqrt_a = sqrt(a)\n",
    "        a_new = (sqrt_a + 1/sqrt_a)/2\n",
    "        b_new = (1+b)*sqrt_a / (a+b)\n",
    "        p_new = (1+a_new)*p*b_new / (1+b_new)\n",
    "        a,b,p = a_new, b_new, p_new\n",
    "        s = str(p)\n",
    "        print(n,f\"{s[:50]}...{s[-50:]}\")\n",
    "    f=open(\"pi.out\",\"w\")\n",
    "    f.write(s[2:10000002])\n",
    "    f.close()\n",
    "%time pi_ten_million()"
   ]
  },
  {
   "cell_type": "code",
   "execution_count": null,
   "id": "0452bf7e",
   "metadata": {},
   "outputs": [],
   "source": []
  }
 ],
 "metadata": {
  "kernelspec": {
   "display_name": "Python 3 (ipykernel)",
   "language": "python",
   "name": "python3"
  },
  "language_info": {
   "codemirror_mode": {
    "name": "ipython",
    "version": 3
   },
   "file_extension": ".py",
   "mimetype": "text/x-python",
   "name": "python",
   "nbconvert_exporter": "python",
   "pygments_lexer": "ipython3",
   "version": "3.8.10"
  }
 },
 "nbformat": 4,
 "nbformat_minor": 5
}
