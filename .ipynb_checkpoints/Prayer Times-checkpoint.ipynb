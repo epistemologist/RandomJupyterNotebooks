{
 "cells": [
  {
   "cell_type": "code",
   "execution_count": 38,
   "metadata": {},
   "outputs": [],
   "source": [
    "import requests\n",
    "import json\n",
    "from functools import lru_cache\n",
    "URL = \"http://api.aladhan.com/v1/calendar\"\n",
    "\n",
    "# Location\n",
    "latitude = 21.3891\n",
    "longitude = 39.8579\n",
    "\n",
    "method = 0\n",
    "\"\"\"\n",
    "0 - Shia Ithna-Ansari\n",
    "1 - University of Islamic Sciences, Karachi\n",
    "2 - Islamic Society of North America\n",
    "3 - Muslim World League\n",
    "4 - Umm Al-Qura University, Makkah\n",
    "5 - Egyptian General Authority of Survey\n",
    "7 - Institute of Geophysics, University of Tehran\n",
    "8 - Gulf Region\n",
    "9 - Kuwait\n",
    "10 - Qatar\n",
    "11 - Majlis Ugama Islam Singapura, Singapore\n",
    "12 - Union Organization islamic de France\n",
    "13 - Diyanet İşleri Başkanlığı, Turkey\n",
    "14 - Spiritual Administration of Muslims of Russia\n",
    "99 - Custom. See https://aladhan.com/calculation-methods\n",
    "\"\"\"\n",
    "\n",
    "@lru_cache(maxsize=None)\n",
    "def get_times_month(month, year, latitude=latitude, longitude=longitude, method_=method):\n",
    "    r = requests.get(URL, params = {\n",
    "        \"latitude\": latitude_,\n",
    "        \"longitude\": longitude_, \n",
    "        \"method\": method,\n",
    "        \"month\": month,\n",
    "        \"year\": year})\n",
    "    return json.loads(r.content)[\"data\"]\n",
    "\n",
    "def get_timestamps_day(month, year, day, latitude=latitude, longitude=longitude, method=method):\n",
    "    temp = get_times_month(month, year, day, latitude, longitude, method)[day-1]\n",
    "    return temp"
   ]
  },
  {
   "cell_type": "code",
   "execution_count": 36,
   "metadata": {},
   "outputs": [
    {
     "ename": "TypeError",
     "evalue": "get_times_month() got multiple values for argument 'latitude'",
     "output_type": "error",
     "traceback": [
      "\u001b[1;31m---------------------------------------------------------------------------\u001b[0m",
      "\u001b[1;31mTypeError\u001b[0m                                 Traceback (most recent call last)",
      "\u001b[1;32m<ipython-input-36-64aedd4fc632>\u001b[0m in \u001b[0;36m<module>\u001b[1;34m\u001b[0m\n\u001b[1;32m----> 1\u001b[1;33m \u001b[0mget_timestamps_day\u001b[0m\u001b[1;33m(\u001b[0m\u001b[1;36m3\u001b[0m\u001b[1;33m,\u001b[0m \u001b[1;36m2020\u001b[0m\u001b[1;33m,\u001b[0m \u001b[1;36m1\u001b[0m\u001b[1;33m)\u001b[0m\u001b[1;33m\u001b[0m\u001b[1;33m\u001b[0m\u001b[0m\n\u001b[0m",
      "\u001b[1;32m<ipython-input-35-9a3bf7cf7a5d>\u001b[0m in \u001b[0;36mget_timestamps_day\u001b[1;34m(month, year, day, latitude, longitude, method)\u001b[0m\n\u001b[0;32m     38\u001b[0m \u001b[1;33m\u001b[0m\u001b[0m\n\u001b[0;32m     39\u001b[0m \u001b[1;32mdef\u001b[0m \u001b[0mget_timestamps_day\u001b[0m\u001b[1;33m(\u001b[0m\u001b[0mmonth\u001b[0m\u001b[1;33m,\u001b[0m \u001b[0myear\u001b[0m\u001b[1;33m,\u001b[0m \u001b[0mday\u001b[0m\u001b[1;33m,\u001b[0m \u001b[0mlatitude\u001b[0m\u001b[1;33m=\u001b[0m\u001b[0mlatitude\u001b[0m\u001b[1;33m,\u001b[0m \u001b[0mlongitude\u001b[0m\u001b[1;33m=\u001b[0m\u001b[0mlongitude\u001b[0m\u001b[1;33m,\u001b[0m \u001b[0mmethod\u001b[0m\u001b[1;33m=\u001b[0m\u001b[0mmethod\u001b[0m\u001b[1;33m)\u001b[0m\u001b[1;33m:\u001b[0m\u001b[1;33m\u001b[0m\u001b[1;33m\u001b[0m\u001b[0m\n\u001b[1;32m---> 40\u001b[1;33m     \u001b[0mtemp\u001b[0m \u001b[1;33m=\u001b[0m \u001b[0mget_times_month\u001b[0m\u001b[1;33m(\u001b[0m\u001b[0mmonth\u001b[0m\u001b[1;33m,\u001b[0m \u001b[0myear\u001b[0m\u001b[1;33m,\u001b[0m \u001b[0mday\u001b[0m\u001b[1;33m,\u001b[0m \u001b[0mlatitude\u001b[0m\u001b[1;33m=\u001b[0m\u001b[0mlatitude\u001b[0m\u001b[1;33m,\u001b[0m \u001b[0mlongitude\u001b[0m\u001b[1;33m=\u001b[0m\u001b[0mlongitude\u001b[0m\u001b[1;33m,\u001b[0m \u001b[0mmethod\u001b[0m\u001b[1;33m=\u001b[0m\u001b[0mmethod\u001b[0m\u001b[1;33m)\u001b[0m\u001b[1;33m[\u001b[0m\u001b[0mday\u001b[0m\u001b[1;33m-\u001b[0m\u001b[1;36m1\u001b[0m\u001b[1;33m]\u001b[0m\u001b[1;33m\u001b[0m\u001b[1;33m\u001b[0m\u001b[0m\n\u001b[0m\u001b[0;32m     41\u001b[0m     \u001b[1;32mreturn\u001b[0m \u001b[0mtemp\u001b[0m\u001b[1;33m\u001b[0m\u001b[1;33m\u001b[0m\u001b[0m\n",
      "\u001b[1;31mTypeError\u001b[0m: get_times_month() got multiple values for argument 'latitude'"
     ]
    }
   ],
   "source": [
    "get_timestamps_day(3, 2020, 1)"
   ]
  },
  {
   "cell_type": "code",
   "execution_count": null,
   "metadata": {},
   "outputs": [],
   "source": []
  }
 ],
 "metadata": {
  "kernelspec": {
   "display_name": "Python 3",
   "language": "python",
   "name": "python3"
  },
  "language_info": {
   "codemirror_mode": {
    "name": "ipython",
    "version": 3
   },
   "file_extension": ".py",
   "mimetype": "text/x-python",
   "name": "python",
   "nbconvert_exporter": "python",
   "pygments_lexer": "ipython3",
   "version": "3.8.5"
  }
 },
 "nbformat": 4,
 "nbformat_minor": 4
}
